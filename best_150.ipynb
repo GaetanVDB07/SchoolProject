{
 "cells": [
  {
   "attachments": {},
   "cell_type": "markdown",
   "metadata": {},
   "source": [
    "## Load packages"
   ]
  },
  {
   "cell_type": "code",
   "execution_count": 1,
   "metadata": {},
   "outputs": [
    {
     "name": "stderr",
     "output_type": "stream",
     "text": [
      "C:\\Users\\Victo\\AppData\\Local\\Temp\\ipykernel_15616\\3818186681.py:7: MatplotlibDeprecationWarning: The seaborn styles shipped by Matplotlib are deprecated since 3.6, as they no longer correspond to the styles shipped by seaborn. However, they will remain available as 'seaborn-v0_8-<style>'. Alternatively, directly use the seaborn API instead.\n",
      "  plt.style.use('seaborn-darkgrid')\n"
     ]
    }
   ],
   "source": [
    "%matplotlib inline\n",
    "import numpy as np\n",
    "import pandas as pd\n",
    "import matplotlib as mpl\n",
    "import matplotlib.pyplot as plt\n",
    "import seaborn as sns\n",
    "plt.style.use('seaborn-darkgrid')"
   ]
  },
  {
   "cell_type": "code",
   "execution_count": 6,
   "metadata": {},
   "outputs": [],
   "source": [
    "df = pd.read_csv('score_cleaned.csv')\n",
    "\n",
    "df['net_profit'] = df['outcome_profit'] - df['outcome_damage_amount']\n",
    "\n",
    "# Sort the DataFrame by the 'outcome_profit' column in descending order\n",
    "df_sorted = df.sort_values('net_profit', ascending=False)\n",
    "\n",
    "# Select the top 150 rows\n",
    "top_150_customers = df_sorted.head(150)\n",
    "\n",
    "# Clear the contents of the output file\n",
    "with open('top_150_smurfs.csv', 'w', newline='') as f:\n",
    "    pass\n",
    "\n",
    "# Save the filtered dataset to a new file\n",
    "top_150_customers.to_csv('top_150_smurfs.csv', index=False)"
   ]
  }
 ],
 "metadata": {
  "kernelspec": {
   "display_name": "SchoolProject-jfK-57_F",
   "language": "python",
   "name": "python3"
  },
  "language_info": {
   "codemirror_mode": {
    "name": "ipython",
    "version": 3
   },
   "file_extension": ".py",
   "mimetype": "text/x-python",
   "name": "python",
   "nbconvert_exporter": "python",
   "pygments_lexer": "ipython3",
   "version": "3.11.1"
  },
  "orig_nbformat": 4
 },
 "nbformat": 4,
 "nbformat_minor": 2
}
