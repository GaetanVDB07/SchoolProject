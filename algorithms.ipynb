{
 "cells": [
  {
   "cell_type": "code",
   "execution_count": 1,
   "metadata": {},
   "outputs": [
    {
     "name": "stderr",
     "output_type": "stream",
     "text": [
      "C:\\Users\\Victo\\AppData\\Local\\Temp\\ipykernel_17768\\3818186681.py:7: MatplotlibDeprecationWarning: The seaborn styles shipped by Matplotlib are deprecated since 3.6, as they no longer correspond to the styles shipped by seaborn. However, they will remain available as 'seaborn-v0_8-<style>'. Alternatively, directly use the seaborn API instead.\n",
      "  plt.style.use('seaborn-darkgrid')\n"
     ]
    }
   ],
   "source": [
    "%matplotlib inline\n",
    "import numpy as np\n",
    "import pandas as pd\n",
    "import matplotlib as mpl\n",
    "import matplotlib.pyplot as plt\n",
    "import seaborn as sns\n",
    "plt.style.use('seaborn-darkgrid')"
   ]
  },
  {
   "cell_type": "code",
   "execution_count": 2,
   "metadata": {},
   "outputs": [],
   "source": [
    "df = pd.read_csv('data_cleaned.csv')"
   ]
  },
  {
   "cell_type": "code",
   "execution_count": 3,
   "metadata": {},
   "outputs": [
    {
     "name": "stderr",
     "output_type": "stream",
     "text": [
      "C:\\Users\\Victo\\AppData\\Local\\Temp\\ipykernel_17768\\797845231.py:5: FutureWarning: In a future version of pandas all arguments of DataFrame.drop except for the argument 'labels' will be keyword-only.\n",
      "  X = df.drop(['income_am'],1)\n"
     ]
    }
   ],
   "source": [
    "# Import the function\n",
    "from sklearn.model_selection import train_test_split\n",
    "\n",
    "# Split of feaures and outcomes\n",
    "X = df.drop(['outcome_profit'],1)\n",
    "y = df['outcome_profit']\n",
    "\n",
    "# Perform train/test-split\n",
    "X_train, X_test, y_train, y_test = train_test_split(X, y, test_size=0.2, random_state=123)"
   ]
  },
  {
   "cell_type": "code",
   "execution_count": 4,
   "metadata": {},
   "outputs": [],
   "source": [
    "from sklearn.preprocessing import StandardScaler\n",
    "\n",
    "num_feat = X_train.select_dtypes(include=['int64', 'float64']).columns\n",
    "\n",
    "scaler = StandardScaler()\n",
    "scaler.fit(X_train[num_feat])\n",
    "\n",
    "X_train_stan = X_train.copy()\n",
    "\n",
    "X_train_stan[num_feat] = scaler.transform(X_train[num_feat])"
   ]
  },
  {
   "cell_type": "code",
   "execution_count": 5,
   "metadata": {},
   "outputs": [
    {
     "name": "stdout",
     "output_type": "stream",
     "text": [
      "<class 'pandas.core.frame.DataFrame'>\n",
      "RangeIndex: 4947 entries, 0 to 4946\n",
      "Data columns (total 100 columns):\n",
      " #   Column                  Non-Null Count  Dtype  \n",
      "---  ------                  --------------  -----  \n",
      " 0   income_am               4947 non-null   float64\n",
      " 1   profit_last_am          4947 non-null   float64\n",
      " 2   profit_am               4947 non-null   float64\n",
      " 3   damage_am               4947 non-null   float64\n",
      " 4   crd_lim_rec             4947 non-null   float64\n",
      " 5   cab_requests            4947 non-null   float64\n",
      " 6   bar_no                  4947 non-null   float64\n",
      " 7   neighbor_income         4947 non-null   float64\n",
      " 8   age                     4947 non-null   float64\n",
      " 9   tenure_mts              4947 non-null   float64\n",
      " 10  tenure_yrs              4947 non-null   float64\n",
      " 11  claims_am               4947 non-null   float64\n",
      " 12  nights_booked           4947 non-null   float64\n",
      " 13  shop_am                 4947 non-null   float64\n",
      " 14  outcome_profit          4947 non-null   float64\n",
      " 15  outcome_damage_amount   4947 non-null   float64\n",
      " 16  pos_mean_scores         4947 non-null   float64\n",
      " 17  neg_mean_scores         4947 non-null   float64\n",
      " 18  damage_inc_0.0          4947 non-null   int64  \n",
      " 19  damage_inc_1.0          4947 non-null   int64  \n",
      " 20  damage_inc_2.0          4947 non-null   int64  \n",
      " 21  damage_inc_3.0          4947 non-null   int64  \n",
      " 22  damage_inc_4.0          4947 non-null   int64  \n",
      " 23  damage_inc_5.0          4947 non-null   int64  \n",
      " 24  damage_inc_6.0          4947 non-null   int64  \n",
      " 25  damage_inc_7.0          4947 non-null   int64  \n",
      " 26  damage_inc_8.0          4947 non-null   int64  \n",
      " 27  damage_inc_9.0          4947 non-null   int64  \n",
      " 28  damage_inc_10.0         4947 non-null   int64  \n",
      " 29  credit_use_ic_0.0       4947 non-null   int64  \n",
      " 30  credit_use_ic_1.0       4947 non-null   int64  \n",
      " 31  insurance_ic_0.0        4947 non-null   int64  \n",
      " 32  insurance_ic_1.0        4947 non-null   int64  \n",
      " 33  spa_ic_0.0              4947 non-null   int64  \n",
      " 34  spa_ic_1.0              4947 non-null   int64  \n",
      " 35  empl_ic_0.0             4947 non-null   int64  \n",
      " 36  empl_ic_1.0             4947 non-null   int64  \n",
      " 37  married_cd_False        4947 non-null   int64  \n",
      " 38  married_cd_True         4947 non-null   int64  \n",
      " 39  sport_ic_0.0            4947 non-null   int64  \n",
      " 40  sport_ic_1.0            4947 non-null   int64  \n",
      " 41  marketing_permit_0.0    4947 non-null   int64  \n",
      " 42  marketing_permit_1.0    4947 non-null   int64  \n",
      " 43  dining_ic_0.0           4947 non-null   int64  \n",
      " 44  dining_ic_1.0           4947 non-null   int64  \n",
      " 45  presidential_0.0        4947 non-null   int64  \n",
      " 46  presidential_1.0        4947 non-null   int64  \n",
      " 47  presidential_Undefined  4947 non-null   int64  \n",
      " 48  client_segment_0.0      4947 non-null   int64  \n",
      " 49  client_segment_1.0      4947 non-null   int64  \n",
      " 50  client_segment_2.0      4947 non-null   int64  \n",
      " 51  client_segment_3.0      4947 non-null   int64  \n",
      " 52  client_segment_4.0      4947 non-null   int64  \n",
      " 53  client_segment_5.0      4947 non-null   int64  \n",
      " 54  sect_empl_0.0           4947 non-null   int64  \n",
      " 55  sect_empl_1.0           4947 non-null   int64  \n",
      " 56  sect_empl_2.0           4947 non-null   int64  \n",
      " 57  sect_empl_3.0           4947 non-null   int64  \n",
      " 58  sect_empl_4.0           4947 non-null   int64  \n",
      " 59  sect_empl_6.0           4947 non-null   int64  \n",
      " 60  prev_stay_0.0           4947 non-null   int64  \n",
      " 61  prev_stay_1.0           4947 non-null   int64  \n",
      " 62  prev_all_in_stay_0.0    4947 non-null   int64  \n",
      " 63  prev_all_in_stay_1.0    4947 non-null   int64  \n",
      " 64  divorce_0.0             4947 non-null   int64  \n",
      " 65  divorce_1.0             4947 non-null   int64  \n",
      " 66  fam_adult_size_1.0      4947 non-null   int64  \n",
      " 67  fam_adult_size_2.0      4947 non-null   int64  \n",
      " 68  fam_adult_size_3.0      4947 non-null   int64  \n",
      " 69  fam_adult_size_4.0      4947 non-null   int64  \n",
      " 70  children_no_0.0         4947 non-null   int64  \n",
      " 71  children_no_1.0         4947 non-null   int64  \n",
      " 72  children_no_2.0         4947 non-null   int64  \n",
      " 73  children_no_3.0         4947 non-null   int64  \n",
      " 74  children_no_4.0         4947 non-null   int64  \n",
      " 75  children_no_5.0         4947 non-null   int64  \n",
      " 76  children_no_6.0         4947 non-null   int64  \n",
      " 77  company_ic_0.0          4947 non-null   int64  \n",
      " 78  company_ic_1.0          4947 non-null   int64  \n",
      " 79  claims_no_0.0           4947 non-null   int64  \n",
      " 80  claims_no_1.0           4947 non-null   int64  \n",
      " 81  claims_no_2.0           4947 non-null   int64  \n",
      " 82  claims_no_3.0           4947 non-null   int64  \n",
      " 83  claims_no_4.0           4947 non-null   int64  \n",
      " 84  claims_no_5.0           4947 non-null   int64  \n",
      " 85  claims_no_6.0           4947 non-null   int64  \n",
      " 86  claims_no_7.0           4947 non-null   int64  \n",
      " 87  claims_no_8.0           4947 non-null   int64  \n",
      " 88  claims_no_9.0           4947 non-null   int64  \n",
      " 89  gender_M                4947 non-null   int64  \n",
      " 90  gender_V                4947 non-null   int64  \n",
      " 91  shop_use_0.0            4947 non-null   int64  \n",
      " 92  shop_use_1.0            4947 non-null   int64  \n",
      " 93  shop_use_Undefined      4947 non-null   int64  \n",
      " 94  retired_0.0             4947 non-null   int64  \n",
      " 95  retired_1.0             4947 non-null   int64  \n",
      " 96  gold_status_0.0         4947 non-null   int64  \n",
      " 97  gold_status_1.0         4947 non-null   int64  \n",
      " 98  outcome_damage_inc_0    4947 non-null   int64  \n",
      " 99  outcome_damage_inc_1    4947 non-null   int64  \n",
      "dtypes: float64(18), int64(82)\n",
      "memory usage: 3.8 MB\n"
     ]
    }
   ],
   "source": [
    "df.info()"
   ]
  },
  {
   "attachments": {},
   "cell_type": "markdown",
   "metadata": {},
   "source": [
    "# Linear Regression"
   ]
  },
  {
   "cell_type": "code",
   "execution_count": 6,
   "metadata": {},
   "outputs": [
    {
     "data": {
      "text/html": [
       "<style>#sk-container-id-1 {color: black;background-color: white;}#sk-container-id-1 pre{padding: 0;}#sk-container-id-1 div.sk-toggleable {background-color: white;}#sk-container-id-1 label.sk-toggleable__label {cursor: pointer;display: block;width: 100%;margin-bottom: 0;padding: 0.3em;box-sizing: border-box;text-align: center;}#sk-container-id-1 label.sk-toggleable__label-arrow:before {content: \"▸\";float: left;margin-right: 0.25em;color: #696969;}#sk-container-id-1 label.sk-toggleable__label-arrow:hover:before {color: black;}#sk-container-id-1 div.sk-estimator:hover label.sk-toggleable__label-arrow:before {color: black;}#sk-container-id-1 div.sk-toggleable__content {max-height: 0;max-width: 0;overflow: hidden;text-align: left;background-color: #f0f8ff;}#sk-container-id-1 div.sk-toggleable__content pre {margin: 0.2em;color: black;border-radius: 0.25em;background-color: #f0f8ff;}#sk-container-id-1 input.sk-toggleable__control:checked~div.sk-toggleable__content {max-height: 200px;max-width: 100%;overflow: auto;}#sk-container-id-1 input.sk-toggleable__control:checked~label.sk-toggleable__label-arrow:before {content: \"▾\";}#sk-container-id-1 div.sk-estimator input.sk-toggleable__control:checked~label.sk-toggleable__label {background-color: #d4ebff;}#sk-container-id-1 div.sk-label input.sk-toggleable__control:checked~label.sk-toggleable__label {background-color: #d4ebff;}#sk-container-id-1 input.sk-hidden--visually {border: 0;clip: rect(1px 1px 1px 1px);clip: rect(1px, 1px, 1px, 1px);height: 1px;margin: -1px;overflow: hidden;padding: 0;position: absolute;width: 1px;}#sk-container-id-1 div.sk-estimator {font-family: monospace;background-color: #f0f8ff;border: 1px dotted black;border-radius: 0.25em;box-sizing: border-box;margin-bottom: 0.5em;}#sk-container-id-1 div.sk-estimator:hover {background-color: #d4ebff;}#sk-container-id-1 div.sk-parallel-item::after {content: \"\";width: 100%;border-bottom: 1px solid gray;flex-grow: 1;}#sk-container-id-1 div.sk-label:hover label.sk-toggleable__label {background-color: #d4ebff;}#sk-container-id-1 div.sk-serial::before {content: \"\";position: absolute;border-left: 1px solid gray;box-sizing: border-box;top: 0;bottom: 0;left: 50%;z-index: 0;}#sk-container-id-1 div.sk-serial {display: flex;flex-direction: column;align-items: center;background-color: white;padding-right: 0.2em;padding-left: 0.2em;position: relative;}#sk-container-id-1 div.sk-item {position: relative;z-index: 1;}#sk-container-id-1 div.sk-parallel {display: flex;align-items: stretch;justify-content: center;background-color: white;position: relative;}#sk-container-id-1 div.sk-item::before, #sk-container-id-1 div.sk-parallel-item::before {content: \"\";position: absolute;border-left: 1px solid gray;box-sizing: border-box;top: 0;bottom: 0;left: 50%;z-index: -1;}#sk-container-id-1 div.sk-parallel-item {display: flex;flex-direction: column;z-index: 1;position: relative;background-color: white;}#sk-container-id-1 div.sk-parallel-item:first-child::after {align-self: flex-end;width: 50%;}#sk-container-id-1 div.sk-parallel-item:last-child::after {align-self: flex-start;width: 50%;}#sk-container-id-1 div.sk-parallel-item:only-child::after {width: 0;}#sk-container-id-1 div.sk-dashed-wrapped {border: 1px dashed gray;margin: 0 0.4em 0.5em 0.4em;box-sizing: border-box;padding-bottom: 0.4em;background-color: white;}#sk-container-id-1 div.sk-label label {font-family: monospace;font-weight: bold;display: inline-block;line-height: 1.2em;}#sk-container-id-1 div.sk-label-container {text-align: center;}#sk-container-id-1 div.sk-container {/* jupyter's `normalize.less` sets `[hidden] { display: none; }` but bootstrap.min.css set `[hidden] { display: none !important; }` so we also need the `!important` here to be able to override the default hidden behavior on the sphinx rendered scikit-learn.org. See: https://github.com/scikit-learn/scikit-learn/issues/21755 */display: inline-block !important;position: relative;}#sk-container-id-1 div.sk-text-repr-fallback {display: none;}</style><div id=\"sk-container-id-1\" class=\"sk-top-container\"><div class=\"sk-text-repr-fallback\"><pre>LinearRegression()</pre><b>In a Jupyter environment, please rerun this cell to show the HTML representation or trust the notebook. <br />On GitHub, the HTML representation is unable to render, please try loading this page with nbviewer.org.</b></div><div class=\"sk-container\" hidden><div class=\"sk-item\"><div class=\"sk-estimator sk-toggleable\"><input class=\"sk-toggleable__control sk-hidden--visually\" id=\"sk-estimator-id-1\" type=\"checkbox\" checked><label for=\"sk-estimator-id-1\" class=\"sk-toggleable__label sk-toggleable__label-arrow\">LinearRegression</label><div class=\"sk-toggleable__content\"><pre>LinearRegression()</pre></div></div></div></div></div>"
      ],
      "text/plain": [
       "LinearRegression()"
      ]
     },
     "execution_count": 6,
     "metadata": {},
     "output_type": "execute_result"
    }
   ],
   "source": [
    "from sklearn.linear_model import LinearRegression\n",
    "reg= LinearRegression()\n",
    "reg.fit(X_train_stan, y_train)"
   ]
  },
  {
   "cell_type": "code",
   "execution_count": 7,
   "metadata": {},
   "outputs": [],
   "source": [
    "predictions_train = reg.predict(X_train_stan)"
   ]
  },
  {
   "attachments": {},
   "cell_type": "markdown",
   "metadata": {},
   "source": [
    "coefficient of determination"
   ]
  },
  {
   "cell_type": "code",
   "execution_count": 8,
   "metadata": {},
   "outputs": [
    {
     "name": "stdout",
     "output_type": "stream",
     "text": [
      "0.7609736405752742\n"
     ]
    }
   ],
   "source": [
    "from sklearn.metrics import r2_score\n",
    "print(r2_score(y_train, predictions_train))"
   ]
  },
  {
   "attachments": {},
   "cell_type": "markdown",
   "metadata": {},
   "source": [
    "MAE"
   ]
  },
  {
   "cell_type": "code",
   "execution_count": 9,
   "metadata": {},
   "outputs": [
    {
     "name": "stdout",
     "output_type": "stream",
     "text": [
      "1556.931499991138\n"
     ]
    }
   ],
   "source": [
    "from sklearn.metrics import mean_absolute_error\n",
    "print(mean_absolute_error(y_train, predictions_train))"
   ]
  },
  {
   "attachments": {},
   "cell_type": "markdown",
   "metadata": {},
   "source": [
    "MSE"
   ]
  },
  {
   "cell_type": "code",
   "execution_count": 10,
   "metadata": {},
   "outputs": [
    {
     "name": "stdout",
     "output_type": "stream",
     "text": [
      "18047231.33533516\n"
     ]
    }
   ],
   "source": [
    "from sklearn.metrics import mean_squared_error\n",
    "print(mean_squared_error(y_train, predictions_train))"
   ]
  },
  {
   "attachments": {},
   "cell_type": "markdown",
   "metadata": {},
   "source": [
    "# Polynomial Regression"
   ]
  },
  {
   "cell_type": "code",
   "execution_count": 11,
   "metadata": {},
   "outputs": [
    {
     "name": "stdout",
     "output_type": "stream",
     "text": [
      "Order 1: avg R^2 = -8.34956103560475e+24\n",
      "Order 2: avg R^2 = -25.926666393856987\n"
     ]
    }
   ],
   "source": [
    "from sklearn.pipeline import Pipeline\n",
    "from sklearn.preprocessing import PolynomialFeatures\n",
    "from sklearn.model_selection import cross_val_score\n",
    "\n",
    "avg_scores = [None] * 5\n",
    "\n",
    "for i in np.arange(1,6):\n",
    "    \n",
    "    reg_poly = Pipeline([('poly', PolynomialFeatures(degree=i)),\n",
    "                  ('linear', LinearRegression(fit_intercept=False))])\n",
    "    \n",
    "    scores = cross_val_score(reg_poly, X_train_stan, y_train, scoring = 'r2', cv=3)\n",
    "    \n",
    "    avg_scores[i-1] = scores.mean()\n",
    "    \n",
    "    print(\"Order \"+str(i)+\": avg R^2 = \"+str( avg_scores[i-1]))"
   ]
  },
  {
   "cell_type": "code",
   "execution_count": null,
   "metadata": {},
   "outputs": [],
   "source": [
    "fig, ax = plt.subplots(figsize=(8, 6))\n",
    "plt.scatter(np.arange(1,6), avg_scores, c='b', label='data')\n",
    "plt.axis('tight')\n",
    "plt.title(\"Cross-validation polynomials\")\n",
    "ax.set_xlabel(\"Order\");\n",
    "ax.set_ylabel(\"CV R^2\");\n",
    "plt.tight_layout()\n",
    "plt.show()"
   ]
  },
  {
   "attachments": {},
   "cell_type": "markdown",
   "metadata": {},
   "source": [
    "# KNN"
   ]
  },
  {
   "cell_type": "code",
   "execution_count": null,
   "metadata": {},
   "outputs": [],
   "source": []
  },
  {
   "attachments": {},
   "cell_type": "markdown",
   "metadata": {},
   "source": [
    "# Tree based"
   ]
  }
 ],
 "metadata": {
  "kernelspec": {
   "display_name": "SchoolProject-jfK-57_F",
   "language": "python",
   "name": "python3"
  },
  "language_info": {
   "codemirror_mode": {
    "name": "ipython",
    "version": 3
   },
   "file_extension": ".py",
   "mimetype": "text/x-python",
   "name": "python",
   "nbconvert_exporter": "python",
   "pygments_lexer": "ipython3",
   "version": "3.11.1"
  },
  "orig_nbformat": 4
 },
 "nbformat": 4,
 "nbformat_minor": 2
}
